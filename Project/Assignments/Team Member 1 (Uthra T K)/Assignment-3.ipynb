{
  "cells": [
    {
      "cell_type": "markdown",
      "id": "84512639",
      "metadata": {
        "id": "84512639"
      },
      "source": [
        "# Assignment-3"
      ]
    },
    {
      "cell_type": "markdown",
      "id": "9593ee86",
      "metadata": {
        "id": "9593ee86"
      },
      "source": [
        "# Build CNN Model for Classification Of Flowers "
      ]
    },
    {
      "cell_type": "markdown",
      "id": "6f3c477e",
      "metadata": {
        "id": "6f3c477e"
      },
      "source": [
        "# Assignment date: 01-10-2022\n",
        "\n",
        "# Student Name: UTHRA T K\n",
        "\n",
        "# Student Roll.NO: 311519106104\n",
        "\n",
        "# Maximum Marks: 2"
      ]
    },
    {
      "cell_type": "markdown",
      "id": "aafcaf9b",
      "metadata": {
        "id": "aafcaf9b"
      },
      "source": [
        "1.Import packages"
      ]
    },
    {
      "cell_type": "code",
      "execution_count": 1,
      "id": "7dddf1c8",
      "metadata": {
        "colab": {
          "base_uri": "https://localhost:8080/"
        },
        "id": "7dddf1c8",
        "outputId": "75d312bb-f096-42c3-93a1-86c1611b9271"
      },
      "outputs": [
        {
          "output_type": "stream",
          "name": "stdout",
          "text": [
            "Mounted at /content/drive\n"
          ]
        }
      ],
      "source": [
        "from google.colab import drive\n",
        "drive.mount('/content/drive')"
      ]
    },
    {
      "cell_type": "code",
      "execution_count": 2,
      "id": "4739b08b",
      "metadata": {
        "id": "4739b08b"
      },
      "outputs": [],
      "source": [
        "import tensorflow\n",
        "from tensorflow import keras"
      ]
    },
    {
      "cell_type": "code",
      "execution_count": 3,
      "id": "0d352a55",
      "metadata": {
        "id": "0d352a55"
      },
      "outputs": [],
      "source": [
        "from keras  import Sequential\n",
        "from keras.layers import Convolution2D,MaxPooling2D,Flatten,Dense\n",
        "from keras.preprocessing.image import ImageDataGenerator as idm"
      ]
    },
    {
      "cell_type": "code",
      "execution_count": 4,
      "id": "8892eadc",
      "metadata": {
        "id": "8892eadc"
      },
      "outputs": [],
      "source": [
        "import numpy as np\n",
        "\n",
        "import warnings\n",
        "warnings.filterwarnings('ignore')"
      ]
    },
    {
      "cell_type": "markdown",
      "id": "9025c475",
      "metadata": {
        "id": "9025c475"
      },
      "source": [
        "2.Image Augmentation"
      ]
    },
    {
      "cell_type": "code",
      "execution_count": 6,
      "id": "aede27ff",
      "metadata": {
        "colab": {
          "base_uri": "https://localhost:8080/"
        },
        "id": "aede27ff",
        "outputId": "3608853f-0798-4e7e-b5bb-2dab586c1f95"
      },
      "outputs": [
        {
          "output_type": "stream",
          "name": "stdout",
          "text": [
            "Found 4317 images belonging to 5 classes.\n"
          ]
        }
      ],
      "source": [
        "train_flowers=idm(rescale=1./255,zoom_range=0.2,horizontal_flip=True)\n",
        "\n",
        "\n",
        "Xtrain = train_flowers.flow_from_directory('/content/drive/MyDrive/IBM/Flowers-Dataset',target_size=(76,76),class_mode='categorical',batch_size=100)"
      ]
    },
    {
      "cell_type": "code",
      "execution_count": 7,
      "id": "c6c433c8",
      "metadata": {
        "colab": {
          "base_uri": "https://localhost:8080/"
        },
        "id": "c6c433c8",
        "outputId": "a90cfdf3-2a0d-49d3-a6f5-44ccf65cd872"
      },
      "outputs": [
        {
          "output_type": "stream",
          "name": "stdout",
          "text": [
            "Found 250 images belonging to 5 classes.\n"
          ]
        }
      ],
      "source": [
        "test_flowers=idm(rescale=1./255)\n",
        "\n",
        "\n",
        "Xtest = test_flowers.flow_from_directory('/content/drive/MyDrive/IBM/Flowers-training',target_size=(76,76),class_mode='categorical',batch_size=100)"
      ]
    },
    {
      "cell_type": "markdown",
      "id": "82d612c4",
      "metadata": {
        "id": "82d612c4"
      },
      "source": [
        "3.Create Model"
      ]
    },
    {
      "cell_type": "code",
      "execution_count": 8,
      "id": "52d46fca",
      "metadata": {
        "id": "52d46fca"
      },
      "outputs": [],
      "source": [
        "model = Sequential()"
      ]
    },
    {
      "cell_type": "markdown",
      "id": "670650c4",
      "metadata": {
        "id": "670650c4"
      },
      "source": [
        "4.Add Layers (Convolution,MaxPooling,Flatten,Dense-(Hidden\n",
        "Layers),Output)"
      ]
    },
    {
      "cell_type": "code",
      "execution_count": 9,
      "id": "0a94c857",
      "metadata": {
        "id": "0a94c857"
      },
      "outputs": [],
      "source": [
        "model.add(Convolution2D(32,(3,3),activation='relu',input_shape=(76,76,3)))\n",
        "model.add(MaxPooling2D(pool_size=(2,2)))\n",
        "model.add(Flatten())\n",
        "model.add(Dense(300,activation='relu'))\n",
        "model.add(Dense(150,activation='relu'))\n",
        "model.add(Dense(5,activation='softmax'))"
      ]
    },
    {
      "cell_type": "markdown",
      "id": "c8827e68",
      "metadata": {
        "id": "c8827e68"
      },
      "source": [
        "5.Compile The Model"
      ]
    },
    {
      "cell_type": "code",
      "execution_count": 10,
      "id": "9e0c41de",
      "metadata": {
        "id": "9e0c41de"
      },
      "outputs": [],
      "source": [
        "model.compile(optimizer='adam',loss='categorical_crossentropy',metrics=['accuracy'])"
      ]
    },
    {
      "cell_type": "markdown",
      "id": "ef63f4a6",
      "metadata": {
        "id": "ef63f4a6"
      },
      "source": [
        "6.Fit The Model"
      ]
    },
    {
      "cell_type": "code",
      "execution_count": 11,
      "id": "e89d3e79",
      "metadata": {
        "colab": {
          "base_uri": "https://localhost:8080/"
        },
        "id": "e89d3e79",
        "outputId": "e6e000f2-ad1b-4948-8b54-99db09e80a96"
      },
      "outputs": [
        {
          "output_type": "stream",
          "name": "stdout",
          "text": [
            "Epoch 1/10\n",
            "44/44 [==============================] - 1113s 25s/step - loss: 1.8273 - accuracy: 0.3966 - val_loss: 1.1795 - val_accuracy: 0.4320\n",
            "Epoch 2/10\n",
            "44/44 [==============================] - 44s 992ms/step - loss: 1.0778 - accuracy: 0.5747 - val_loss: 1.0866 - val_accuracy: 0.5400\n",
            "Epoch 3/10\n",
            "44/44 [==============================] - 44s 987ms/step - loss: 0.9862 - accuracy: 0.6115 - val_loss: 1.0229 - val_accuracy: 0.5840\n",
            "Epoch 4/10\n",
            "44/44 [==============================] - 43s 970ms/step - loss: 0.9155 - accuracy: 0.6456 - val_loss: 0.8919 - val_accuracy: 0.6640\n",
            "Epoch 5/10\n",
            "44/44 [==============================] - 44s 984ms/step - loss: 0.8453 - accuracy: 0.6722 - val_loss: 0.8106 - val_accuracy: 0.6960\n",
            "Epoch 6/10\n",
            "44/44 [==============================] - 44s 983ms/step - loss: 0.7990 - accuracy: 0.6894 - val_loss: 0.7224 - val_accuracy: 0.7440\n",
            "Epoch 7/10\n",
            "44/44 [==============================] - 44s 984ms/step - loss: 0.7538 - accuracy: 0.7197 - val_loss: 0.8751 - val_accuracy: 0.6480\n",
            "Epoch 8/10\n",
            "44/44 [==============================] - 44s 984ms/step - loss: 0.7662 - accuracy: 0.7123 - val_loss: 0.7312 - val_accuracy: 0.7240\n",
            "Epoch 9/10\n",
            "44/44 [==============================] - 44s 1s/step - loss: 0.6892 - accuracy: 0.7403 - val_loss: 0.6337 - val_accuracy: 0.7720\n",
            "Epoch 10/10\n",
            "44/44 [==============================] - 45s 1s/step - loss: 0.6683 - accuracy: 0.7410 - val_loss: 0.5647 - val_accuracy: 0.7920\n"
          ]
        },
        {
          "output_type": "execute_result",
          "data": {
            "text/plain": [
              "<keras.callbacks.History at 0x7f8c0dcfdbd0>"
            ]
          },
          "metadata": {},
          "execution_count": 11
        }
      ],
      "source": [
        "model.fit_generator(Xtrain,steps_per_epoch= len (Xtrain),epochs= 10,validation_data=Xtest,validation_steps= len (Xtest))"
      ]
    },
    {
      "cell_type": "markdown",
      "id": "db417000",
      "metadata": {
        "id": "db417000"
      },
      "source": [
        "7.Save The Model"
      ]
    },
    {
      "cell_type": "code",
      "execution_count": 12,
      "id": "2f4b143e",
      "metadata": {
        "id": "2f4b143e"
      },
      "outputs": [],
      "source": [
        "model.save('Flower.h5')"
      ]
    },
    {
      "cell_type": "markdown",
      "id": "c43a7011",
      "metadata": {
        "id": "c43a7011"
      },
      "source": [
        "8.Test The Model"
      ]
    },
    {
      "cell_type": "code",
      "execution_count": 14,
      "id": "3d2edd8a",
      "metadata": {
        "colab": {
          "base_uri": "https://localhost:8080/",
          "height": 93
        },
        "id": "3d2edd8a",
        "outputId": "1bfbe4e3-384e-45bf-8ae3-e7cfc4972a4e"
      },
      "outputs": [
        {
          "output_type": "execute_result",
          "data": {
            "text/plain": [
              "<PIL.Image.Image image mode=RGB size=76x76 at 0x7F8C0D228150>"
            ],
            "image/png": "[encoded data removed]"
          },
          "metadata": {},
          "execution_count": 14
        }
      ],
      "source": [
        "from keras_preprocessing import image\n",
        "test_img=image.load_img('/content/drive/MyDrive/IBM/Flowers-Dataset/sunflower/26254755_1bfc494ef1_n.jpg',target_size=(76,76))\n",
        "test_img"
      ]
    },
    {
      "cell_type": "code",
      "execution_count": 15,
      "id": "f3a8e39e",
      "metadata": {
        "id": "f3a8e39e",
        "colab": {
          "base_uri": "https://localhost:8080/",
          "height": 35
        },
        "outputId": "f555ad21-4c46-498d-ab8b-33ba88a899cc"
      },
      "outputs": [
        {
          "output_type": "execute_result",
          "data": {
            "text/plain": [
              "'sunflower'"
            ],
            "application/vnd.google.colaboratory.intrinsic+json": {
              "type": "string"
            }
          },
          "metadata": {},
          "execution_count": 15
        }
      ],
      "source": [
        "x=image.img_to_array(test_img)\n",
        "x=np.expand_dims(x,axis=0)\n",
        "predicted=np.argmax(model.predict(x))\n",
        "Prediction_category=['daisy','dandelion','rose','sunflower','tulip']\n",
        "Prediction_category[predicted]"
      ]
    },
    {
      "cell_type": "code",
      "execution_count": 28,
      "id": "1941a9d9",
      "metadata": {
        "id": "1941a9d9",
        "colab": {
          "base_uri": "https://localhost:8080/",
          "height": 93
        },
        "outputId": "f7655cb0-d6db-48a1-8547-30ea7ec98e89"
      },
      "outputs": [
        {
          "output_type": "execute_result",
          "data": {
            "text/plain": [
              "<PIL.Image.Image image mode=RGB size=76x76 at 0x7F8C06BD8D10>"
            ],
            "image/png": "[encoded data removed]"
          },
          "metadata": {},
          "execution_count": 28
        }
      ],
      "source": [
        "test_img1=image.load_img('/content/drive/MyDrive/IBM/Flowers-training/dandelion/138166590_47c6cb9dd0.jpg',target_size=(76,76))\n",
        "test_img1"
      ]
    },
    {
      "cell_type": "code",
      "execution_count": 31,
      "id": "d32c13ae",
      "metadata": {
        "id": "d32c13ae",
        "colab": {
          "base_uri": "https://localhost:8080/",
          "height": 35
        },
        "outputId": "bb9a4b8e-25e6-4a52-e880-53dcb6ec9cad"
      },
      "outputs": [
        {
          "output_type": "execute_result",
          "data": {
            "text/plain": [
              "'dandelion'"
            ],
            "application/vnd.google.colaboratory.intrinsic+json": {
              "type": "string"
            }
          },
          "metadata": {},
          "execution_count": 31
        }
      ],
      "source": [
        "x=image.img_to_array(test_img1)\n",
        "x=np.expand_dims(x,axis=0)\n",
        "predicted=np.argmax(model.predict(x))\n",
        "Prediction_category=['daisy','dandelion','rose','sunflower','tulip']\n",
        "Prediction_category[predicted]"
      ]
    },
    {
      "cell_type": "code",
      "execution_count": 37,
      "id": "acc9b0ce",
      "metadata": {
        "id": "acc9b0ce",
        "colab": {
          "base_uri": "https://localhost:8080/",
          "height": 93
        },
        "outputId": "7c7518d1-3ddc-4995-f297-bc0d30d43a2d"
      },
      "outputs": [
        {
          "output_type": "execute_result",
          "data": {
            "text/plain": [
              "<PIL.Image.Image image mode=RGB size=76x76 at 0x7F8C0745B210>"
            ],
            "image/png": "[encoded data removed]"
          },
          "metadata": {},
          "execution_count": 37
        }
      ],
      "source": [
        "test_img2=image.load_img('/content/drive/MyDrive/IBM/Flowers-training/tulip/5635347336_bc1400e939_n.jpg',target_size=(76,76))\n",
        "test_img2"
      ]
    },
    {
      "cell_type": "code",
      "execution_count": 38,
      "id": "b05784c8",
      "metadata": {
        "id": "b05784c8",
        "colab": {
          "base_uri": "https://localhost:8080/",
          "height": 35
        },
        "outputId": "1507eac6-2f03-4dc7-a55d-95143911d5b4"
      },
      "outputs": [
        {
          "output_type": "execute_result",
          "data": {
            "text/plain": [
              "'tulip'"
            ],
            "application/vnd.google.colaboratory.intrinsic+json": {
              "type": "string"
            }
          },
          "metadata": {},
          "execution_count": 38
        }
      ],
      "source": [
        "x=image.img_to_array(test_img2)\n",
        "x=np.expand_dims(x,axis=0)\n",
        "predicted=np.argmax(model.predict(x))\n",
        "Prediction_category=['daisy','dandelion','rose','sunflower','tulip']\n",
        "Prediction_category[predicted]"
      ]
    },
    {
      "cell_type": "code",
      "execution_count": 34,
      "id": "aae3b6f9",
      "metadata": {
        "id": "aae3b6f9",
        "colab": {
          "base_uri": "https://localhost:8080/",
          "height": 93
        },
        "outputId": "96ba5707-38f1-4db4-b469-ba6acf5564f5"
      },
      "outputs": [
        {
          "output_type": "execute_result",
          "data": {
            "text/plain": [
              "<PIL.Image.Image image mode=RGB size=76x76 at 0x7F8C06BD5110>"
            ],
            "image/png": "[encoded data removed]"
          },
          "metadata": {},
          "execution_count": 34
        }
      ],
      "source": [
        "test_img3=image.load_img('/content/drive/MyDrive/IBM/Flowers-training/daisy/1299501272_59d9da5510_n.jpg',target_size=(76,76))\n",
        "test_img3"
      ]
    },
    {
      "cell_type": "code",
      "execution_count": 35,
      "id": "beb153c5",
      "metadata": {
        "id": "beb153c5",
        "colab": {
          "base_uri": "https://localhost:8080/",
          "height": 35
        },
        "outputId": "57ccf564-de04-4b63-d332-7c36aba778d9"
      },
      "outputs": [
        {
          "output_type": "execute_result",
          "data": {
            "text/plain": [
              "'daisy'"
            ],
            "application/vnd.google.colaboratory.intrinsic+json": {
              "type": "string"
            }
          },
          "metadata": {},
          "execution_count": 35
        }
      ],
      "source": [
        "x=image.img_to_array(test_img3)\n",
        "x=np.expand_dims(x,axis=0)\n",
        "predicted=np.argmax(model.predict(x))\n",
        "Prediction_category=['daisy','dandelion','rose','sunflower','tulip']\n",
        "Prediction_category[predicted]"
      ]
    },
    {
      "cell_type": "code",
      "execution_count": 41,
      "id": "243821be",
      "metadata": {
        "id": "243821be",
        "colab": {
          "base_uri": "https://localhost:8080/",
          "height": 93
        },
        "outputId": "6a5e3ba9-7a56-4d79-ecb6-799f8ae8b60d"
      },
      "outputs": [
        {
          "output_type": "execute_result",
          "data": {
            "text/plain": [
              "<PIL.Image.Image image mode=RGB size=76x76 at 0x7F8C0933C350>"
            ],
            "image/png": "[encoded data removed]"
          },
          "metadata": {},
          "execution_count": 41
        }
      ],
      "source": [
        "test_img4=image.load_img('/content/drive/MyDrive/IBM/Flowers-training/rose/3026375835_a20ecdd140_m.jpg',target_size=(76,76))\n",
        "test_img4"
      ]
    },
    {
      "cell_type": "code",
      "execution_count": 42,
      "id": "fbfc5342",
      "metadata": {
        "id": "fbfc5342",
        "colab": {
          "base_uri": "https://localhost:8080/",
          "height": 35
        },
        "outputId": "a80e4128-057b-4fdf-ed05-b57b5a950d68"
      },
      "outputs": [
        {
          "output_type": "execute_result",
          "data": {
            "text/plain": [
              "'rose'"
            ],
            "application/vnd.google.colaboratory.intrinsic+json": {
              "type": "string"
            }
          },
          "metadata": {},
          "execution_count": 42
        }
      ],
      "source": [
        "x=image.img_to_array(test_img4)\n",
        "x=np.expand_dims(x,axis=0)\n",
        "predicted=np.argmax(model.predict(x))\n",
        "Prediction_category=['daisy','dandelion','rose','sunflower','tulip']\n",
        "Prediction_category[predicted]"
      ]
    }
  ],
  "metadata": {
    "kernelspec": {
      "display_name": "Python 3 (ipykernel)",
      "language": "python",
      "name": "python3"
    },
    "language_info": {
      "codemirror_mode": {
        "name": "ipython",
        "version": 3
      },
      "file_extension": ".py",
      "mimetype": "text/x-python",
      "name": "python",
      "nbconvert_exporter": "python",
      "pygments_lexer": "ipython3",
      "version": "3.9.13"
    },
    "colab": {
      "provenance": []
    }
  },
  "nbformat": 4,
  "nbformat_minor": 5
}