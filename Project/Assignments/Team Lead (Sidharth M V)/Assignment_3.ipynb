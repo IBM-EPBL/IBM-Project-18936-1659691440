{
  "cells": [
    {
      "cell_type": "markdown",
      "id": "84512639",
      "metadata": {
        "id": "84512639"
      },
      "source": [
        "# Assignment-3"
      ]
    },
    {
      "cell_type": "markdown",
      "id": "9593ee86",
      "metadata": {
        "id": "9593ee86"
      },
      "source": [
        "# Build CNN Model for Classification Of Flowers "
      ]
    },
    {
      "cell_type": "markdown",
      "id": "6f3c477e",
      "metadata": {
        "id": "6f3c477e"
      },
      "source": [
        "# Assignment date: 03-10-2022\n",
        "\n",
        "# Student Name: SIDHARTH M V\n",
        "\n",
        "# Student Roll.NO: 311519106088\n",
        "\n",
        "# Maximum Marks: 2 Marks"
      ]
    },
    {
      "cell_type": "markdown",
      "id": "aafcaf9b",
      "metadata": {
        "id": "aafcaf9b"
      },
      "source": [
        "1.Import packages"
      ]
    },
    {
      "cell_type": "code",
      "execution_count": null,
      "id": "7dddf1c8",
      "metadata": {
        "colab": {
          "base_uri": "https://localhost:8080/"
        },
        "id": "7dddf1c8",
        "outputId": "b2730060-7167-420d-d4d2-ad6c7d191afd"
      },
      "outputs": [
        {
          "output_type": "stream",
          "name": "stdout",
          "text": [
            "Mounted at /content/drive\n"
          ]
        }
      ],
      "source": [
        "from google.colab import drive\n",
        "drive.mount('/content/drive')"
      ]
    },
    {
      "cell_type": "code",
      "execution_count": null,
      "id": "4739b08b",
      "metadata": {
        "id": "4739b08b"
      },
      "outputs": [],
      "source": [
        "import tensorflow\n",
        "from tensorflow import keras"
      ]
    },
    {
      "cell_type": "code",
      "execution_count": null,
      "id": "0d352a55",
      "metadata": {
        "id": "0d352a55"
      },
      "outputs": [],
      "source": [
        "from keras import Sequential\n",
        "from keras.layers import Convolution2D,MaxPooling2D,Flatten,Dense\n",
        "from keras.preprocessing.image import ImageDataGenerator as idm"
      ]
    },
    {
      "cell_type": "code",
      "execution_count": null,
      "id": "8892eadc",
      "metadata": {
        "id": "8892eadc"
      },
      "outputs": [],
      "source": [
        "import numpy as np\n",
        "\n",
        "import warnings\n",
        "warnings.filterwarnings('ignore')"
      ]
    },
    {
      "cell_type": "markdown",
      "id": "9025c475",
      "metadata": {
        "id": "9025c475"
      },
      "source": [
        "2.Image Augmentation"
      ]
    },
    {
      "cell_type": "code",
      "execution_count": 7,
      "id": "aede27ff",
      "metadata": {
        "colab": {
          "base_uri": "https://localhost:8080/"
        },
        "id": "aede27ff",
        "outputId": "3d10cc07-6947-48a4-9713-c4c962bbf87a"
      },
      "outputs": [
        {
          "output_type": "stream",
          "name": "stdout",
          "text": [
            "Found 4317 images belonging to 5 classes.\n"
          ]
        }
      ],
      "source": [
        "train_flowers=idm(rescale=1./255,zoom_range=0.2,horizontal_flip=True)\n",
        "\n",
        "Xtrain = train_flowers.flow_from_directory('/content/drive/MyDrive/Colab Notebooks/flowers',target_size=(76,76),class_mode='categorical',batch_size=100)"
      ]
    },
    {
      "cell_type": "code",
      "execution_count": 8,
      "id": "c6c433c8",
      "metadata": {
        "colab": {
          "base_uri": "https://localhost:8080/"
        },
        "id": "c6c433c8",
        "outputId": "2ec914ac-d9fc-4626-d921-cee7266c35f9"
      },
      "outputs": [
        {
          "output_type": "stream",
          "name": "stdout",
          "text": [
            "Found 139 images belonging to 5 classes.\n"
          ]
        }
      ],
      "source": [
        "test_flowers=idm(rescale=1./255)\n",
        "\n",
        "Xtest = test_flowers.flow_from_directory('/content/drive/MyDrive/Colab Notebooks/flowers-test',target_size=(76,76),class_mode='categorical',batch_size=100)"
      ]
    },
    {
      "cell_type": "markdown",
      "id": "82d612c4",
      "metadata": {
        "id": "82d612c4"
      },
      "source": [
        "3.Create Model"
      ]
    },
    {
      "cell_type": "code",
      "execution_count": 9,
      "id": "52d46fca",
      "metadata": {
        "id": "52d46fca"
      },
      "outputs": [],
      "source": [
        "model = Sequential()"
      ]
    },
    {
      "cell_type": "markdown",
      "id": "670650c4",
      "metadata": {
        "id": "670650c4"
      },
      "source": [
        "4.Add Layers (Convolution,MaxPooling,Flatten,Dense-(Hidden\n",
        "Layers),Output)"
      ]
    },
    {
      "cell_type": "code",
      "execution_count": 10,
      "id": "0a94c857",
      "metadata": {
        "id": "0a94c857"
      },
      "outputs": [],
      "source": [
        "model.add(Convolution2D(32,(3,3),activation='relu',input_shape=(76,76,3)))\n",
        "model.add(MaxPooling2D(pool_size=(2,2)))\n",
        "model.add(Flatten())\n",
        "model.add(Dense(300,activation='relu'))\n",
        "model.add(Dense(150,activation='relu'))\n",
        "model.add(Dense(5,activation='softmax'))"
      ]
    },
    {
      "cell_type": "markdown",
      "id": "c8827e68",
      "metadata": {
        "id": "c8827e68"
      },
      "source": [
        "5.Compile The Model"
      ]
    },
    {
      "cell_type": "code",
      "execution_count": 11,
      "id": "9e0c41de",
      "metadata": {
        "id": "9e0c41de"
      },
      "outputs": [],
      "source": [
        "model.compile(optimizer='adam',loss='categorical_crossentropy',metrics=['accuracy'])"
      ]
    },
    {
      "cell_type": "markdown",
      "id": "ef63f4a6",
      "metadata": {
        "id": "ef63f4a6"
      },
      "source": [
        "6.Fit The Model"
      ]
    },
    {
      "cell_type": "code",
      "execution_count": 12,
      "id": "e89d3e79",
      "metadata": {
        "colab": {
          "base_uri": "https://localhost:8080/"
        },
        "id": "e89d3e79",
        "outputId": "8ef2dd55-1d06-4796-e76d-275aae93691a"
      },
      "outputs": [
        {
          "output_type": "stream",
          "name": "stdout",
          "text": [
            "Epoch 1/10\n",
            "44/44 [==============================] - 805s 18s/step - loss: 1.9329 - accuracy: 0.3887 - val_loss: 1.1337 - val_accuracy: 0.5180\n",
            "Epoch 2/10\n",
            "44/44 [==============================] - 27s 606ms/step - loss: 1.1117 - accuracy: 0.5432 - val_loss: 1.1009 - val_accuracy: 0.5899\n",
            "Epoch 3/10\n",
            "44/44 [==============================] - 27s 608ms/step - loss: 1.0260 - accuracy: 0.5979 - val_loss: 1.1401 - val_accuracy: 0.6403\n",
            "Epoch 4/10\n",
            "44/44 [==============================] - 26s 596ms/step - loss: 0.9635 - accuracy: 0.6189 - val_loss: 1.0190 - val_accuracy: 0.6475\n",
            "Epoch 5/10\n",
            "44/44 [==============================] - 27s 603ms/step - loss: 0.9175 - accuracy: 0.6498 - val_loss: 1.1174 - val_accuracy: 0.6331\n",
            "Epoch 6/10\n",
            "44/44 [==============================] - 27s 608ms/step - loss: 0.8845 - accuracy: 0.6599 - val_loss: 0.9753 - val_accuracy: 0.6547\n",
            "Epoch 7/10\n",
            "44/44 [==============================] - 27s 601ms/step - loss: 0.8148 - accuracy: 0.6875 - val_loss: 0.8262 - val_accuracy: 0.7266\n",
            "Epoch 8/10\n",
            "44/44 [==============================] - 27s 599ms/step - loss: 0.7764 - accuracy: 0.7118 - val_loss: 0.7792 - val_accuracy: 0.7266\n",
            "Epoch 9/10\n",
            "44/44 [==============================] - 27s 600ms/step - loss: 0.7576 - accuracy: 0.7056 - val_loss: 0.6675 - val_accuracy: 0.7338\n",
            "Epoch 10/10\n",
            "44/44 [==============================] - 26s 596ms/step - loss: 0.7207 - accuracy: 0.7294 - val_loss: 0.8080 - val_accuracy: 0.6978\n"
          ]
        },
        {
          "output_type": "execute_result",
          "data": {
            "text/plain": [
              "<keras.callbacks.History at 0x7f2de5517550>"
            ]
          },
          "metadata": {},
          "execution_count": 12
        }
      ],
      "source": [
        "model.fit_generator(Xtrain,steps_per_epoch= len (Xtrain),epochs= 10,validation_data=Xtest,validation_steps= len (Xtest))"
      ]
    },
    {
      "cell_type": "markdown",
      "id": "db417000",
      "metadata": {
        "id": "db417000"
      },
      "source": [
        "7.Save The Model"
      ]
    },
    {
      "cell_type": "code",
      "execution_count": 13,
      "id": "2f4b143e",
      "metadata": {
        "id": "2f4b143e"
      },
      "outputs": [],
      "source": [
        "model.save('Flower.h5')"
      ]
    },
    {
      "cell_type": "markdown",
      "id": "c43a7011",
      "metadata": {
        "id": "c43a7011"
      },
      "source": [
        "8.Test The Model"
      ]
    },
    {
      "cell_type": "code",
      "execution_count": 14,
      "id": "3d2edd8a",
      "metadata": {
        "colab": {
          "base_uri": "https://localhost:8080/",
          "height": 93
        },
        "id": "3d2edd8a",
        "outputId": "19dd5c73-2c71-496f-cf3e-51bc6bb239ef"
      },
      "outputs": [
        {
          "output_type": "execute_result",
          "data": {
            "text/plain": [
              "<PIL.Image.Image image mode=RGB size=76x76 at 0x7F2DDD10C710>"
            ],
            "image/png": "[encoded data removed]"
          },
          "metadata": {},
          "execution_count": 14
        }
      ],
      "source": [
        "from keras_preprocessing import image\n",
        "test_img=image.load_img('/content/drive/MyDrive/Colab Notebooks/flowers-test/Rose/Copy of 102501987_3cdb8e5394_n.jpg',target_size=(76,76))\n",
        "test_img"
      ]
    },
    {
      "cell_type": "code",
      "execution_count": 15,
      "id": "f3a8e39e",
      "metadata": {
        "id": "f3a8e39e",
        "colab": {
          "base_uri": "https://localhost:8080/",
          "height": 36
        },
        "outputId": "1ce61093-38ab-4790-fba8-7087c3c9e7ea"
      },
      "outputs": [
        {
          "output_type": "execute_result",
          "data": {
            "text/plain": [
              "'rose'"
            ],
            "application/vnd.google.colaboratory.intrinsic+json": {
              "type": "string"
            }
          },
          "metadata": {},
          "execution_count": 15
        }
      ],
      "source": [
        "x=image.img_to_array(test_img)\n",
        "x=np.expand_dims(x,axis=0)\n",
        "predicted=np.argmax(model.predict(x))\n",
        "Prediction_category=['daisy','dandelion','rose','sunflower','tulip']\n",
        "Prediction_category[predicted]"
      ]
    },
    {
      "cell_type": "code",
      "execution_count": 18,
      "id": "1941a9d9",
      "metadata": {
        "id": "1941a9d9",
        "colab": {
          "base_uri": "https://localhost:8080/",
          "height": 93
        },
        "outputId": "bfbefcb4-5e82-4383-ef0b-0c728e4180ea"
      },
      "outputs": [
        {
          "output_type": "execute_result",
          "data": {
            "text/plain": [
              "<PIL.Image.Image image mode=RGB size=76x76 at 0x7F2DE5308A10>"
            ],
            "image/png": "[encoded data removed]"
          },
          "metadata": {},
          "execution_count": 18
        }
      ],
      "source": [
        "test_img1=image.load_img('/content/drive/MyDrive/Colab Notebooks/flowers-test/Daisy/Copy of 144076848_57e1d662e3_m.jpg',target_size=(76,76))\n",
        "test_img1"
      ]
    },
    {
      "cell_type": "code",
      "execution_count": 19,
      "id": "d32c13ae",
      "metadata": {
        "id": "d32c13ae",
        "colab": {
          "base_uri": "https://localhost:8080/",
          "height": 36
        },
        "outputId": "124e5b92-62e5-4ba8-c1e3-b6a5bcde832e"
      },
      "outputs": [
        {
          "output_type": "execute_result",
          "data": {
            "text/plain": [
              "'daisy'"
            ],
            "application/vnd.google.colaboratory.intrinsic+json": {
              "type": "string"
            }
          },
          "metadata": {},
          "execution_count": 19
        }
      ],
      "source": [
        "x=image.img_to_array(test_img1)\n",
        "x=np.expand_dims(x,axis=0)\n",
        "predicted=np.argmax(model.predict(x))\n",
        "Prediction_category=['daisy','dandelion','rose','sunflower','tulip']\n",
        "Prediction_category[predicted]"
      ]
    },
    {
      "cell_type": "code",
      "execution_count": 20,
      "id": "acc9b0ce",
      "metadata": {
        "id": "acc9b0ce",
        "colab": {
          "base_uri": "https://localhost:8080/",
          "height": 93
        },
        "outputId": "6782f74d-5522-4676-89a6-1dd12d9b5648"
      },
      "outputs": [
        {
          "output_type": "execute_result",
          "data": {
            "text/plain": [
              "<PIL.Image.Image image mode=RGB size=76x76 at 0x7F2DE0366350>"
            ],
            "image/png": "[encoded data removed]"
          },
          "metadata": {},
          "execution_count": 20
        }
      ],
      "source": [
        "test_img2=image.load_img('/content/drive/MyDrive/Colab Notebooks/flowers-test/Tulip/Copy of 110147301_ad921e2828.jpg',target_size=(76,76))\n",
        "test_img2"
      ]
    },
    {
      "cell_type": "code",
      "execution_count": 21,
      "id": "b05784c8",
      "metadata": {
        "id": "b05784c8",
        "colab": {
          "base_uri": "https://localhost:8080/",
          "height": 36
        },
        "outputId": "947f92f3-8f3d-4c7a-c1c5-f47bfcf258b8"
      },
      "outputs": [
        {
          "output_type": "execute_result",
          "data": {
            "text/plain": [
              "'tulip'"
            ],
            "application/vnd.google.colaboratory.intrinsic+json": {
              "type": "string"
            }
          },
          "metadata": {},
          "execution_count": 21
        }
      ],
      "source": [
        "x=image.img_to_array(test_img2)\n",
        "x=np.expand_dims(x,axis=0)\n",
        "predicted=np.argmax(model.predict(x))\n",
        "Prediction_category=['daisy','dandelion','rose','sunflower','tulip']\n",
        "Prediction_category[predicted]"
      ]
    },
    {
      "cell_type": "code",
      "execution_count": 22,
      "id": "aae3b6f9",
      "metadata": {
        "id": "aae3b6f9",
        "colab": {
          "base_uri": "https://localhost:8080/",
          "height": 93
        },
        "outputId": "53562907-6a53-4267-94a5-8dab066018b7"
      },
      "outputs": [
        {
          "output_type": "execute_result",
          "data": {
            "text/plain": [
              "<PIL.Image.Image image mode=RGB size=76x76 at 0x7F2DE5309F50>"
            ],
            "image/png": "[encoded data removed]"
          },
          "metadata": {},
          "execution_count": 22
        }
      ],
      "source": [
        "test_img3=image.load_img('/content/drive/MyDrive/Colab Notebooks/flowers-test/Sunflower/Copy of 24459750_eb49f6e4cb_m.jpg',target_size=(76,76))\n",
        "test_img3"
      ]
    },
    {
      "cell_type": "code",
      "execution_count": 23,
      "id": "beb153c5",
      "metadata": {
        "id": "beb153c5",
        "colab": {
          "base_uri": "https://localhost:8080/",
          "height": 36
        },
        "outputId": "42a9295a-8678-45f1-9649-c88cf9cccba0"
      },
      "outputs": [
        {
          "output_type": "execute_result",
          "data": {
            "text/plain": [
              "'sunflower'"
            ],
            "application/vnd.google.colaboratory.intrinsic+json": {
              "type": "string"
            }
          },
          "metadata": {},
          "execution_count": 23
        }
      ],
      "source": [
        "x=image.img_to_array(test_img3)\n",
        "x=np.expand_dims(x,axis=0)\n",
        "predicted=np.argmax(model.predict(x))\n",
        "Prediction_category=['daisy','dandelion','rose','sunflower','tulip']\n",
        "Prediction_category[predicted]"
      ]
    },
    {
      "cell_type": "code",
      "execution_count": 26,
      "id": "243821be",
      "metadata": {
        "id": "243821be",
        "colab": {
          "base_uri": "https://localhost:8080/",
          "height": 93
        },
        "outputId": "9cf02311-f3e0-43cf-8077-e01423ad2cf7"
      },
      "outputs": [
        {
          "output_type": "execute_result",
          "data": {
            "text/plain": [
              "<PIL.Image.Image image mode=RGB size=76x76 at 0x7F2DDFB33CD0>"
            ],
            "image/png": "[encoded data removed]"
          },
          "metadata": {},
          "execution_count": 26
        }
      ],
      "source": [
        "test_img4=image.load_img('/content/drive/MyDrive/Colab Notebooks/flowers-test/Dandelion/Copy of 11405573_24a8a838cc_n.jpg',target_size=(76,76))\n",
        "test_img4"
      ]
    },
    {
      "cell_type": "code",
      "execution_count": 27,
      "id": "fbfc5342",
      "metadata": {
        "id": "fbfc5342",
        "colab": {
          "base_uri": "https://localhost:8080/",
          "height": 36
        },
        "outputId": "f3ff3d46-1504-4ae9-be48-9dc16cd9a5aa"
      },
      "outputs": [
        {
          "output_type": "execute_result",
          "data": {
            "text/plain": [
              "'dandelion'"
            ],
            "application/vnd.google.colaboratory.intrinsic+json": {
              "type": "string"
            }
          },
          "metadata": {},
          "execution_count": 27
        }
      ],
      "source": [
        "x=image.img_to_array(test_img4)\n",
        "x=np.expand_dims(x,axis=0)\n",
        "predicted=np.argmax(model.predict(x))\n",
        "Prediction_category=['daisy','dandelion','rose','sunflower','tulip']\n",
        "Prediction_category[predicted]"
      ]
    }
  ],
  "metadata": {
    "kernelspec": {
      "display_name": "Python 3 (ipykernel)",
      "language": "python",
      "name": "python3"
    },
    "language_info": {
      "codemirror_mode": {
        "name": "ipython",
        "version": 3
      },
      "file_extension": ".py",
      "mimetype": "text/x-python",
      "name": "python",
      "nbconvert_exporter": "python",
      "pygments_lexer": "ipython3",
      "version": "3.9.13"
    },
    "colab": {
      "provenance": []
    }
  },
  "nbformat": 4,
  "nbformat_minor": 5
}