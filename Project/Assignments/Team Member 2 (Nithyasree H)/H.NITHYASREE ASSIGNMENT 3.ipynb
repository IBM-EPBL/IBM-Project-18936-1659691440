{
  "nbformat": 4,
  "nbformat_minor": 0,
  "metadata": {
    "colab": {
      "provenance": []
    },
    "kernelspec": {
      "name": "python3",
      "display_name": "Python 3"
    },
    "language_info": {
      "name": "python"
    }
  },
  "cells": [
    {
      "cell_type": "markdown",
      "source": [
        "# Assignment-3\n",
        "# Build CNN Model for Classification Of Flowers\n",
        "# Assignment date: 03-10-2022\n",
        "# Student Name: H.NITHYASREE\n",
        "# Student Roll.NO: 311519106065\n",
        "# Maximum Marks: 2"
      ],
      "metadata": {
        "id": "IEIpLJVmQ3zq"
      }
    },
    {
      "cell_type": "code",
      "source": [
        "pwd"
      ],
      "metadata": {
        "colab": {
          "base_uri": "https://localhost:8080/",
          "height": 35
        },
        "id": "A9ahDDDzqxey",
        "outputId": "bf73f645-5b89-48b0-8140-419d6d97a02a"
      },
      "execution_count": 13,
      "outputs": [
        {
          "output_type": "execute_result",
          "data": {
            "text/plain": [
              "'/content'"
            ],
            "application/vnd.google.colaboratory.intrinsic+json": {
              "type": "string"
            }
          },
          "metadata": {},
          "execution_count": 13
        }
      ]
    },
    {
      "cell_type": "code",
      "source": [
        "ls"
      ],
      "metadata": {
        "colab": {
          "base_uri": "https://localhost:8080/"
        },
        "id": "Ha_ET5jXqx20",
        "outputId": "9ee5a405-9602-4df1-e3b8-2e11d3192b5e"
      },
      "execution_count": 14,
      "outputs": [
        {
          "output_type": "stream",
          "name": "stdout",
          "text": [
            "\u001b[0m\u001b[01;34mdrive\u001b[0m/  Flowers-Dataset.zip  \u001b[01;34msample_data\u001b[0m/\n"
          ]
        }
      ]
    },
    {
      "cell_type": "code",
      "source": [
        "from google.colab import drive\n",
        "drive.mount('/content/drive')"
      ],
      "metadata": {
        "colab": {
          "base_uri": "https://localhost:8080/"
        },
        "id": "n9JKUd2Xqx8m",
        "outputId": "25dd01e5-aaaa-4bcc-d5c9-f101475ce455"
      },
      "execution_count": 15,
      "outputs": [
        {
          "output_type": "stream",
          "name": "stdout",
          "text": [
            "Drive already mounted at /content/drive; to attempt to forcibly remount, call drive.mount(\"/content/drive\", force_remount=True).\n"
          ]
        }
      ]
    },
    {
      "cell_type": "code",
      "source": [
        "cd /content/drive/MyDrive/Flowerss"
      ],
      "metadata": {
        "colab": {
          "base_uri": "https://localhost:8080/"
        },
        "id": "MLvHpcnAqyBX",
        "outputId": "0fc575cd-d0f4-41b7-ed19-57b03c53e9fa"
      },
      "execution_count": 17,
      "outputs": [
        {
          "output_type": "stream",
          "name": "stdout",
          "text": [
            "/content/drive/MyDrive/Flowerss\n"
          ]
        }
      ]
    },
    {
      "cell_type": "code",
      "source": [
        "ls"
      ],
      "metadata": {
        "colab": {
          "base_uri": "https://localhost:8080/"
        },
        "id": "HED1_k8SqyGA",
        "outputId": "b2f8813d-de0f-4401-d1cc-b9068f3799f4"
      },
      "execution_count": 18,
      "outputs": [
        {
          "output_type": "stream",
          "name": "stdout",
          "text": [
            "Flowers-Dataset.zip\n"
          ]
        }
      ]
    },
    {
      "cell_type": "code",
      "source": [
        "!unzip Flowers-Dataset.zip"
      ],
      "metadata": {
        "colab": {
          "base_uri": "https://localhost:8080/"
        },
        "id": "vYQidgMYrzQ-",
        "outputId": "23ad2082-46a4-4493-e882-4eb5c70706a5"
      },
      "execution_count": 21,
      "outputs": [
        {
          "output_type": "stream",
          "name": "stdout",
          "text": [
            "unzip:  cannot find or open Flowers-Dataset.zip, Flowers-Dataset.zip.zip or Flowers-Dataset.zip.ZIP.\n"
          ]
        }
      ]
    },
    {
      "cell_type": "markdown",
      "source": [
        "1.Import packages"
      ],
      "metadata": {
        "id": "fXAxy1UDRyAN"
      }
    },
    {
      "cell_type": "code",
      "source": [
        "from google.colab import drive\n",
        "drive.mount('/content/drive')"
      ],
      "metadata": {
        "colab": {
          "base_uri": "https://localhost:8080/"
        },
        "id": "n0Zbg4hMRVVr",
        "outputId": "55f15bf2-7dd7-4225-abb4-d1388c5b851d"
      },
      "execution_count": 2,
      "outputs": [
        {
          "output_type": "stream",
          "name": "stdout",
          "text": [
            "Mounted at /content/drive\n"
          ]
        }
      ]
    },
    {
      "cell_type": "code",
      "source": [
        "import tensorflow\n",
        "from tensorflow import keras"
      ],
      "metadata": {
        "id": "9HCvhctsRaW3"
      },
      "execution_count": 4,
      "outputs": []
    },
    {
      "cell_type": "code",
      "source": [
        "from keras  import Sequential\n",
        "from keras.layers import Convolution2D,MaxPooling2D,Flatten,Dense\n",
        "from keras.preprocessing.image import ImageDataGenerator as idm"
      ],
      "metadata": {
        "id": "Cfgt6eDCRgys"
      },
      "execution_count": 5,
      "outputs": []
    },
    {
      "cell_type": "code",
      "source": [
        "import numpy as np\n",
        "\n",
        "import warnings\n",
        "warnings.filterwarnings('ignore')"
      ],
      "metadata": {
        "id": "7AMB4iaqRjas"
      },
      "execution_count": 6,
      "outputs": []
    },
    {
      "cell_type": "markdown",
      "source": [
        "2.Image Augmentation"
      ],
      "metadata": {
        "id": "VYTFbJMtR8zm"
      }
    },
    {
      "cell_type": "code",
      "source": [
        "train_flowers=idm(rescale=1./255,zoom_range=0.2,horizontal_flip=True)\n",
        "\n",
        "\n",
        "Xtrain = train_flowers.flow_from_directory('/content/drive/MyDrive/Flowerss/flowers',target_size=(76,76),class_mode='categorical',batch_size=100)"
      ],
      "metadata": {
        "colab": {
          "base_uri": "https://localhost:8080/"
        },
        "id": "WTp_o3JzSC3y",
        "outputId": "8c4a9d76-65eb-4ff3-e909-6cefdbf927a3"
      },
      "execution_count": 23,
      "outputs": [
        {
          "output_type": "stream",
          "name": "stdout",
          "text": [
            "Found 4317 images belonging to 5 classes.\n"
          ]
        }
      ]
    },
    {
      "cell_type": "code",
      "source": [
        "test_flowers=idm(rescale=1./255)\n",
        "\n",
        "\n",
        "Xtest = test_flowers.flow_from_directory('/content/drive/MyDrive/Flowerss/flowers',target_size=(76,76),class_mode='categorical',batch_size=100)"
      ],
      "metadata": {
        "colab": {
          "base_uri": "https://localhost:8080/"
        },
        "id": "cPrJmgC2SHZy",
        "outputId": "839a6a29-b96c-45f9-cdad-312db06d4038"
      },
      "execution_count": 24,
      "outputs": [
        {
          "output_type": "stream",
          "name": "stdout",
          "text": [
            "Found 4317 images belonging to 5 classes.\n"
          ]
        }
      ]
    },
    {
      "cell_type": "markdown",
      "source": [
        "3.Create Model"
      ],
      "metadata": {
        "id": "qmMqTGtmSWrz"
      }
    },
    {
      "cell_type": "code",
      "source": [
        "model = Sequential()"
      ],
      "metadata": {
        "id": "NveXGDRASXYT"
      },
      "execution_count": 25,
      "outputs": []
    },
    {
      "cell_type": "markdown",
      "source": [
        "4.Add Layers (Convolution,MaxPooling,Flatten,Dense-(Hidden Layers),Output)"
      ],
      "metadata": {
        "id": "WyeOjcUiSZor"
      }
    },
    {
      "cell_type": "code",
      "source": [
        "model.add(Convolution2D(32,(3,3),activation='relu',input_shape=(76,76,3)))\n",
        "model.add(MaxPooling2D(pool_size=(2,2)))\n",
        "model.add(Flatten())\n",
        "model.add(Dense(300,activation='relu'))\n",
        "model.add(Dense(150,activation='relu'))\n",
        "model.add(Dense(5,activation='softmax'))"
      ],
      "metadata": {
        "id": "sooVw9rESb8M"
      },
      "execution_count": 26,
      "outputs": []
    },
    {
      "cell_type": "markdown",
      "source": [
        "5.Compile The Model"
      ],
      "metadata": {
        "id": "i7bGC0eQShYo"
      }
    },
    {
      "cell_type": "code",
      "source": [
        "model.compile(optimizer='adam',loss='categorical_crossentropy',metrics=['accuracy'])"
      ],
      "metadata": {
        "id": "qqQIEdP4Sqgf"
      },
      "execution_count": 30,
      "outputs": []
    },
    {
      "cell_type": "markdown",
      "source": [
        "6.Fit The Model"
      ],
      "metadata": {
        "id": "94neoMRJSuKG"
      }
    },
    {
      "cell_type": "code",
      "source": [
        "model.fit_generator(Xtrain,steps_per_epoch= len (Xtrain),epochs= 10,validation_data=Xtest,validation_steps= len (Xtest))"
      ],
      "metadata": {
        "colab": {
          "base_uri": "https://localhost:8080/"
        },
        "id": "uTmesPlySy2U",
        "outputId": "39404d52-08a5-4c1c-cc24-85a76298dce9"
      },
      "execution_count": 32,
      "outputs": [
        {
          "output_type": "stream",
          "name": "stdout",
          "text": [
            "Epoch 1/10\n",
            "44/44 [==============================] - 612s 14s/step - loss: 1.2779 - accuracy: 0.4427 - val_loss: 1.2415 - val_accuracy: 0.4749\n",
            "Epoch 2/10\n",
            "44/44 [==============================] - 63s 1s/step - loss: 1.1144 - accuracy: 0.5488 - val_loss: 1.1305 - val_accuracy: 0.5576\n",
            "Epoch 3/10\n",
            "44/44 [==============================] - 63s 1s/step - loss: 1.0530 - accuracy: 0.5854 - val_loss: 0.9976 - val_accuracy: 0.6328\n",
            "Epoch 4/10\n",
            "44/44 [==============================] - 63s 1s/step - loss: 0.9889 - accuracy: 0.6155 - val_loss: 0.9543 - val_accuracy: 0.6368\n",
            "Epoch 5/10\n",
            "44/44 [==============================] - 63s 1s/step - loss: 0.9267 - accuracy: 0.6532 - val_loss: 0.9133 - val_accuracy: 0.6630\n",
            "Epoch 6/10\n",
            "44/44 [==============================] - 64s 1s/step - loss: 0.8695 - accuracy: 0.6787 - val_loss: 0.8923 - val_accuracy: 0.6713\n",
            "Epoch 7/10\n",
            "44/44 [==============================] - 63s 1s/step - loss: 0.8366 - accuracy: 0.6796 - val_loss: 0.9747 - val_accuracy: 0.6435\n",
            "Epoch 8/10\n",
            "44/44 [==============================] - 63s 1s/step - loss: 0.8067 - accuracy: 0.6952 - val_loss: 0.7406 - val_accuracy: 0.7304\n",
            "Epoch 9/10\n",
            "44/44 [==============================] - 63s 1s/step - loss: 0.7639 - accuracy: 0.7121 - val_loss: 0.7883 - val_accuracy: 0.7135\n",
            "Epoch 10/10\n",
            "44/44 [==============================] - 63s 1s/step - loss: 0.7440 - accuracy: 0.7276 - val_loss: 0.8085 - val_accuracy: 0.6919\n"
          ]
        },
        {
          "output_type": "execute_result",
          "data": {
            "text/plain": [
              "<keras.callbacks.History at 0x7f0f143f6d10>"
            ]
          },
          "metadata": {},
          "execution_count": 32
        }
      ]
    },
    {
      "cell_type": "markdown",
      "source": [
        "7.Save The Model"
      ],
      "metadata": {
        "id": "9wW7Mkl4TCSn"
      }
    },
    {
      "cell_type": "code",
      "source": [
        "model.save('Flower.h5')"
      ],
      "metadata": {
        "colab": {
          "base_uri": "https://localhost:8080/"
        },
        "id": "s497o56bTFgR",
        "outputId": "fe4cec84-ace0-44f7-f4d1-5ab91e10b447"
      },
      "execution_count": 27,
      "outputs": [
        {
          "output_type": "stream",
          "name": "stderr",
          "text": [
            "WARNING:tensorflow:Compiled the loaded model, but the compiled metrics have yet to be built. `model.compile_metrics` will be empty until you train or evaluate the model.\n"
          ]
        }
      ]
    },
    {
      "cell_type": "markdown",
      "source": [
        "8.Test The Model"
      ],
      "metadata": {
        "id": "S5nBqQPxTIRi"
      }
    },
    {
      "cell_type": "code",
      "source": [
        "from keras_preprocessing import image\n",
        "test_img=image.load_img('/content/drive/MyDrive/Flowerss/flowers/daisy/134409839_71069a95d1_m.jpg',target_size=(76,76))\n",
        "test_img"
      ],
      "metadata": {
        "colab": {
          "base_uri": "https://localhost:8080/",
          "height": 93
        },
        "id": "Hd8ieze_vIVy",
        "outputId": "04de52c4-b342-4495-ad3b-5be53227ab2e"
      },
      "execution_count": 33,
      "outputs": [
        {
          "output_type": "execute_result",
          "data": {
            "text/plain": [
              "<PIL.Image.Image image mode=RGB size=76x76 at 0x7F0F0B36BD50>"
            ],
            "image/png": "[encoded data removed]"
          },
          "metadata": {},
          "execution_count": 33
        }
      ]
    },
    {
      "cell_type": "code",
      "source": [
        "x=image.img_to_array(test_img)\n",
        "x=np.expand_dims(x,axis=0)\n",
        "predicted=np.argmax(model.predict(x))\n",
        "Prediction_category=['daisy','dandelion','rose','sunflower','tulip']\n",
        "Prediction_category[predicted]"
      ],
      "metadata": {
        "colab": {
          "base_uri": "https://localhost:8080/",
          "height": 35
        },
        "id": "0pQLG2n5TS-C",
        "outputId": "09a573e2-d77d-4614-96c2-125de6d054fb"
      },
      "execution_count": 34,
      "outputs": [
        {
          "output_type": "execute_result",
          "data": {
            "text/plain": [
              "'daisy'"
            ],
            "application/vnd.google.colaboratory.intrinsic+json": {
              "type": "string"
            }
          },
          "metadata": {},
          "execution_count": 34
        }
      ]
    },
    {
      "cell_type": "code",
      "source": [
        "test_img1=image.load_img('/content/drive/MyDrive/Flowerss/flowers/tulip/112428919_f0c5ad7d9d_n.jpg',target_size=(76,76))\n",
        "test_img1"
      ],
      "metadata": {
        "colab": {
          "base_uri": "https://localhost:8080/",
          "height": 93
        },
        "id": "6o1pjptATWUW",
        "outputId": "22a84b09-c72c-419d-e399-425a27c8361a"
      },
      "execution_count": 35,
      "outputs": [
        {
          "output_type": "execute_result",
          "data": {
            "text/plain": [
              "<PIL.Image.Image image mode=RGB size=76x76 at 0x7F0F0D3D5D10>"
            ],
            "image/png": "[encoded data removed]"
          },
          "metadata": {},
          "execution_count": 35
        }
      ]
    },
    {
      "cell_type": "code",
      "source": [
        "x=image.img_to_array(test_img1)\n",
        "x=np.expand_dims(x,axis=0)\n",
        "predicted=np.argmax(model.predict(x))\n",
        "Prediction_category=['daisy','dandelion','rose','sunflower','tulip']\n",
        "Prediction_category[predicted]"
      ],
      "metadata": {
        "colab": {
          "base_uri": "https://localhost:8080/",
          "height": 35
        },
        "id": "Lb2enpZ7TbCO",
        "outputId": "4b7aa71e-7e39-47cf-b63b-680c19ffc650"
      },
      "execution_count": 36,
      "outputs": [
        {
          "output_type": "execute_result",
          "data": {
            "text/plain": [
              "'tulip'"
            ],
            "application/vnd.google.colaboratory.intrinsic+json": {
              "type": "string"
            }
          },
          "metadata": {},
          "execution_count": 36
        }
      ]
    },
    {
      "cell_type": "code",
      "source": [
        "test_img2=image.load_img('/content/drive/MyDrive/Flowerss/flowers/sunflower/20704967595_a9c9b8d431.jpg',target_size=(76,76))\n",
        "test_img2"
      ],
      "metadata": {
        "colab": {
          "base_uri": "https://localhost:8080/",
          "height": 93
        },
        "id": "LLy6ShIrTgnI",
        "outputId": "c3a4faaf-647a-48e9-dedb-52d23a865dfd"
      },
      "execution_count": 37,
      "outputs": [
        {
          "output_type": "execute_result",
          "data": {
            "text/plain": [
              "<PIL.Image.Image image mode=RGB size=76x76 at 0x7F0F0A361C90>"
            ],
            "image/png": "[encoded data removed]"
          },
          "metadata": {},
          "execution_count": 37
        }
      ]
    },
    {
      "cell_type": "code",
      "source": [
        "x=image.img_to_array(test_img2)\n",
        "x=np.expand_dims(x,axis=0)\n",
        "predicted=np.argmax(model.predict(x))\n",
        "Prediction_category=['daisy','dandelion','rose','sunflower','tulip']\n",
        "Prediction_category[predicted]"
      ],
      "metadata": {
        "colab": {
          "base_uri": "https://localhost:8080/",
          "height": 35
        },
        "id": "QM4MzeTHTrcw",
        "outputId": "a80e1f29-ab0b-4c00-b50d-45864be5bfb6"
      },
      "execution_count": 38,
      "outputs": [
        {
          "output_type": "execute_result",
          "data": {
            "text/plain": [
              "'sunflower'"
            ],
            "application/vnd.google.colaboratory.intrinsic+json": {
              "type": "string"
            }
          },
          "metadata": {},
          "execution_count": 38
        }
      ]
    },
    {
      "cell_type": "code",
      "source": [
        "test_img3=image.load_img('/content/drive/MyDrive/Flowerss/flowers/rose/2325232198_751645d0bb_n.jpg',target_size=(76,76))\n",
        "test_img3"
      ],
      "metadata": {
        "colab": {
          "base_uri": "https://localhost:8080/",
          "height": 93
        },
        "id": "Jlb9bi-HTuCb",
        "outputId": "bf90d067-8704-4e92-acea-d740f96c8f7f"
      },
      "execution_count": 47,
      "outputs": [
        {
          "output_type": "execute_result",
          "data": {
            "text/plain": [
              "<PIL.Image.Image image mode=RGB size=76x76 at 0x7F0F0D397850>"
            ],
            "image/png": "[encoded data removed]"
          },
          "metadata": {},
          "execution_count": 47
        }
      ]
    },
    {
      "cell_type": "code",
      "source": [
        "x=image.img_to_array(test_img3)\n",
        "x=np.expand_dims(x,axis=0)\n",
        "predicted=np.argmax(model.predict(x))\n",
        "Prediction_category=['daisy','dandelion','rose','sunflower','tulip']\n",
        "Prediction_category[predicted]"
      ],
      "metadata": {
        "colab": {
          "base_uri": "https://localhost:8080/",
          "height": 35
        },
        "id": "sLD4wgdmTwZK",
        "outputId": "cb12c343-2b71-407f-bc8a-3bc6adb25392"
      },
      "execution_count": 48,
      "outputs": [
        {
          "output_type": "execute_result",
          "data": {
            "text/plain": [
              "'rose'"
            ],
            "application/vnd.google.colaboratory.intrinsic+json": {
              "type": "string"
            }
          },
          "metadata": {},
          "execution_count": 48
        }
      ]
    },
    {
      "cell_type": "code",
      "source": [
        "test_img4=image.load_img('/content/drive/MyDrive/Flowerss/flowers/dandelion/10683189_bd6e371b97.jpg',target_size=(76,76))\n",
        "test_img4"
      ],
      "metadata": {
        "colab": {
          "base_uri": "https://localhost:8080/",
          "height": 93
        },
        "id": "uSI8a5nXT1sY",
        "outputId": "fa776243-ddc6-4d82-b9b2-f5b3658acbe4"
      },
      "execution_count": 44,
      "outputs": [
        {
          "output_type": "execute_result",
          "data": {
            "text/plain": [
              "<PIL.Image.Image image mode=RGB size=76x76 at 0x7F0F0D3D5890>"
            ],
            "image/png": "[encoded data removed]"
          },
          "metadata": {},
          "execution_count": 44
        }
      ]
    },
    {
      "cell_type": "code",
      "source": [
        "x=image.img_to_array(test_img4)\n",
        "x=np.expand_dims(x,axis=0)\n",
        "predicted=np.argmax(model.predict(x))\n",
        "Prediction_category=['dandelion','daisy','rose','sunflower','tulip']\n",
        "Prediction_category[predicted]"
      ],
      "metadata": {
        "colab": {
          "base_uri": "https://localhost:8080/",
          "height": 35
        },
        "id": "MY4SgSRLULD2",
        "outputId": "94ff65ba-1138-4846-e9fe-a4a05ed52e36"
      },
      "execution_count": 45,
      "outputs": [
        {
          "output_type": "execute_result",
          "data": {
            "text/plain": [
              "'dandelion'"
            ],
            "application/vnd.google.colaboratory.intrinsic+json": {
              "type": "string"
            }
          },
          "metadata": {},
          "execution_count": 45
        }
      ]
    }
  ]
}