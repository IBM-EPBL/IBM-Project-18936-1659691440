{
  "nbformat": 4,
  "nbformat_minor": 0,
  "metadata": {
    "colab": {
      "provenance": []
    },
    "kernelspec": {
      "name": "python3",
      "display_name": "Python 3"
    },
    "language_info": {
      "name": "python"
    }
  },
  "cells": [
    {
      "cell_type": "markdown",
      "source": [
        "# **Image Preprocessing**\n",
        "\n",
        "## **Import ImageDataGenerator Library**"
      ],
      "metadata": {
        "id": "WFPs8LxtlPFf"
      }
    },
    {
      "cell_type": "code",
      "source": [
        "import tensorflow as tf\n",
        "from tensorflow.keras.models import Sequential\n",
        "from tensorflow.keras.layers import Dense, Conv2D, Flatten, Dropout, MaxPooling2D\n",
        "from tensorflow.keras.preprocessing.image import ImageDataGenerator "
      ],
      "metadata": {
        "id": "eftPFp50k_rH"
      },
      "execution_count": 1,
      "outputs": []
    }
  ]
}