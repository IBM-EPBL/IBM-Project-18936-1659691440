{
  "nbformat": 4,
  "nbformat_minor": 0,
  "metadata": {
    "colab": {
      "provenance": []
    },
    "kernelspec": {
      "name": "python3",
      "display_name": "Python 3"
    },
    "language_info": {
      "name": "python"
    }
  },
  "cells": [
    {
      "cell_type": "markdown",
      "source": [
        "# **Model Building**"
      ],
      "metadata": {
        "id": "7wU_b8_UhwDg"
      }
    },
    {
      "cell_type": "markdown",
      "source": [
        "## **2.Keyframe separation**"
      ],
      "metadata": {
        "id": "BsZUobkCh_bV"
      }
    },
    {
      "cell_type": "code",
      "source": [
        "from google.colab import drive\n",
        "drive.mount('/content/drive')"
      ],
      "metadata": {
        "colab": {
          "base_uri": "https://localhost:8080/"
        },
        "id": "CEYvIAdvOfqb",
        "outputId": "f27d27af-5a80-404b-c940-78e24a66b237"
      },
      "execution_count": 1,
      "outputs": [
        {
          "output_type": "stream",
          "name": "stdout",
          "text": [
            "Mounted at /content/drive\n"
          ]
        }
      ]
    },
    {
      "cell_type": "code",
      "source": [
        "import os\n",
        "import cv2\n",
        "import subprocess\n",
        "\n",
        "filename = '/content/drive/MyDrive/IBM_DATASET/All over in 10 seconds.mp4'\n",
        "\n",
        "def get_frame_types(video_fn):\n",
        "    command = 'ffprobe -v error -show_entries frame=pict_type -of default=noprint_wrappers=1'.split()\n",
        "    out = subprocess.check_output(command + [video_fn]).decode()\n",
        "    frame_types = out.replace('pict_type=','').split()\n",
        "    return zip(range(len(frame_types)), frame_types)\n",
        "\n",
        "def save_i_keyframes(video_fn):\n",
        "    frame_types = get_frame_types(video_fn)\n",
        "    i_frames = [x[0] for x in frame_types if x[1]=='I']\n",
        "    if i_frames:\n",
        "        basename = os.path.splitext(os.path.basename(video_fn))[0]\n",
        "        cap = cv2.VideoCapture(video_fn)\n",
        "        for frame_no in i_frames:\n",
        "            cap.set(cv2.CAP_PROP_POS_FRAMES, frame_no)\n",
        "            ret, frame = cap.read()\n",
        "            outname = 'Key_frame_'+str(frame_no)+'.jpg'\n",
        "            cv2.imwrite(outname, frame)\n",
        "            print (outname)\n",
        "        cap.release()\n",
        "\n",
        "    else:\n",
        "        print ('No I-frames in '+video_fn)\n",
        "\n",
        "if __name__ == '__main__':\n",
        "    save_i_keyframes(filename)\n",
        "  "
      ],
      "metadata": {
        "colab": {
          "base_uri": "https://localhost:8080/"
        },
        "id": "ai91_YrSZruu",
        "outputId": "e2094bd5-b47d-46b8-e671-6ee465612a00"
      },
      "execution_count": 33,
      "outputs": [
        {
          "output_type": "stream",
          "name": "stdout",
          "text": [
            "Key_frame_0.jpg\n",
            "Key_frame_128.jpg\n"
          ]
        }
      ]
    }
  ]
}